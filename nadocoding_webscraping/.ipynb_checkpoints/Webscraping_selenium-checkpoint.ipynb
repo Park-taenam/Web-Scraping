{
 "cells": [
  {
   "cell_type": "code",
   "execution_count": 3,
   "metadata": {
    "ExecuteTime": {
     "end_time": "2021-11-13T08:19:33.429984Z",
     "start_time": "2021-11-13T08:19:33.391872Z"
    }
   },
   "outputs": [
    {
     "name": "stdout",
     "output_type": "stream",
     "text": [
      " C 드라이브의 볼륨에는 이름이 없습니다.\n",
      " 볼륨 일련 번호: CA2E-52A2\n",
      "\n",
      " C:\\Users\\User\\Desktop\\workspace\\WebScraping\\nadocoding_webscraping 디렉터리\n",
      "\n",
      "2021-11-13  오후 05:18    <DIR>          .\n",
      "2021-11-13  오후 05:18    <DIR>          ..\n",
      "2021-11-13  오후 04:57    <DIR>          .ipynb_checkpoints\n",
      "2021-08-29  오후 04:04               411 1_html.html\n",
      "2021-10-28  오전 02:39        11,275,264 chromedriver.exe\n",
      "2021-10-21  오후 01:42                 0 practice.py\n",
      "2021-11-13  오후 04:59             1,759 Webscraping_selenium.ipynb\n",
      "               4개 파일          11,277,434 바이트\n",
      "               3개 디렉터리  38,707,130,368 바이트 남음\n"
     ]
    }
   ],
   "source": [
    "%ls"
   ]
  },
  {
   "cell_type": "markdown",
   "metadata": {},
   "source": [
    "# Basic"
   ]
  },
  {
   "cell_type": "code",
   "execution_count": 4,
   "metadata": {
    "ExecuteTime": {
     "end_time": "2021-11-13T08:19:36.464364Z",
     "start_time": "2021-11-13T08:19:36.305021Z"
    }
   },
   "outputs": [],
   "source": [
    "from selenium import webdriver"
   ]
  },
  {
   "cell_type": "code",
   "execution_count": 17,
   "metadata": {
    "ExecuteTime": {
     "end_time": "2021-11-13T08:37:15.489720Z",
     "start_time": "2021-11-13T08:37:10.075724Z"
    }
   },
   "outputs": [
    {
     "name": "stderr",
     "output_type": "stream",
     "text": [
      "<ipython-input-17-91a86477df2c>:7: DeprecationWarning: find_element_by_* commands are deprecated. Please use find_element() instead\n",
      "  elem = browser.find_element_by_class_name('link_login')\n",
      "<ipython-input-17-91a86477df2c>:15: DeprecationWarning: find_element_by_* commands are deprecated. Please use find_element() instead\n",
      "  elem = browser.find_element_by_id('query')\n"
     ]
    }
   ],
   "source": [
    "# browser = webdriver.Chrome('./chromedriver.exe')\n",
    "browser = webdriver.Chrome() # 같은 경로에 있으면 굳이 작성 안해도 됌\n",
    "# chrome으로 naver띄움\n",
    "browser.get('http://naver.com')\n",
    "\n",
    "# 로그인 창 클릭\n",
    "elem = browser.find_element_by_class_name('link_login')\n",
    "elem.click()\n",
    "\n",
    "browser.back() # 이전 page로 감\n",
    "browser.forward() # 앞 page로 감\n",
    "browser.refresh() # 새로고침\n",
    "browser.back()\n",
    "\n",
    "elem = browser.find_element_by_id('query')"
   ]
  },
  {
   "cell_type": "code",
   "execution_count": 12,
   "metadata": {
    "ExecuteTime": {
     "end_time": "2021-11-13T08:35:54.183383Z",
     "start_time": "2021-11-13T08:35:54.179746Z"
    }
   },
   "outputs": [],
   "source": [
    "from selenium.webdriver.common.keys import Keys"
   ]
  },
  {
   "cell_type": "code",
   "execution_count": 18,
   "metadata": {
    "ExecuteTime": {
     "end_time": "2021-11-13T08:37:17.504736Z",
     "start_time": "2021-11-13T08:37:16.688727Z"
    }
   },
   "outputs": [],
   "source": [
    "elem.send_keys('나도코딩') # 글자 넣기 (위에 import 필요없음)\n",
    "elem.send_keys(Keys.ENTER) # ENTER 누르기"
   ]
  },
  {
   "cell_type": "code",
   "execution_count": 19,
   "metadata": {
    "ExecuteTime": {
     "end_time": "2021-11-13T08:40:04.765817Z",
     "start_time": "2021-11-13T08:39:58.816371Z"
    }
   },
   "outputs": [
    {
     "name": "stderr",
     "output_type": "stream",
     "text": [
      "<ipython-input-19-3342bd4fe8b1>:3: DeprecationWarning: find_elements_by_* commands are deprecated. Please use find_elements() instead\n",
      "  elem = browser.find_elements_by_tag_name('a')\n"
     ]
    }
   ],
   "source": [
    "# element : 한 개\n",
    "# elements : 여러개\n",
    "elem = browser.find_elements_by_tag_name('a') \n",
    "for e in elem:\n",
    "    e.get_attribute('href')"
   ]
  },
  {
   "cell_type": "code",
   "execution_count": 27,
   "metadata": {
    "ExecuteTime": {
     "end_time": "2021-11-13T08:47:29.801134Z",
     "start_time": "2021-11-13T08:47:29.233728Z"
    }
   },
   "outputs": [],
   "source": [
    "browser.get('http://daum.net')"
   ]
  },
  {
   "cell_type": "code",
   "execution_count": 28,
   "metadata": {
    "ExecuteTime": {
     "end_time": "2021-11-13T08:47:33.705761Z",
     "start_time": "2021-11-13T08:47:33.680761Z"
    }
   },
   "outputs": [
    {
     "name": "stderr",
     "output_type": "stream",
     "text": [
      "<ipython-input-28-a070c7b6fc0c>:1: DeprecationWarning: find_element_by_* commands are deprecated. Please use find_element() instead\n",
      "  elem = browser.find_element_by_name('q')\n"
     ]
    }
   ],
   "source": [
    "elem = browser.find_element_by_name('q')"
   ]
  },
  {
   "cell_type": "code",
   "execution_count": 29,
   "metadata": {
    "ExecuteTime": {
     "end_time": "2021-11-13T08:47:38.975780Z",
     "start_time": "2021-11-13T08:47:38.914766Z"
    }
   },
   "outputs": [],
   "source": [
    "elem.send_keys('나도코딩')"
   ]
  },
  {
   "cell_type": "code",
   "execution_count": 30,
   "metadata": {
    "ExecuteTime": {
     "end_time": "2021-11-13T08:47:42.736365Z",
     "start_time": "2021-11-13T08:47:41.627363Z"
    }
   },
   "outputs": [],
   "source": [
    "elem.send_keys(Keys.ENTER)"
   ]
  },
  {
   "cell_type": "code",
   "execution_count": 31,
   "metadata": {
    "ExecuteTime": {
     "end_time": "2021-11-13T08:49:26.976467Z",
     "start_time": "2021-11-13T08:49:26.675918Z"
    }
   },
   "outputs": [],
   "source": [
    "# 검색 버튼 눌러서 실행\n",
    "browser.back()"
   ]
  },
  {
   "cell_type": "code",
   "execution_count": 32,
   "metadata": {
    "ExecuteTime": {
     "end_time": "2021-11-13T08:49:36.664216Z",
     "start_time": "2021-11-13T08:49:36.592973Z"
    }
   },
   "outputs": [
    {
     "name": "stderr",
     "output_type": "stream",
     "text": [
      "<ipython-input-32-f2fefd81b7e1>:1: DeprecationWarning: find_element_by_* commands are deprecated. Please use find_element() instead\n",
      "  elem = browser.find_element_by_name('q')\n"
     ]
    }
   ],
   "source": [
    "elem = browser.find_element_by_name('q')\n",
    "elem.send_keys('나도코딩')"
   ]
  },
  {
   "cell_type": "code",
   "execution_count": 33,
   "metadata": {
    "ExecuteTime": {
     "end_time": "2021-11-13T08:52:09.179662Z",
     "start_time": "2021-11-13T08:52:09.149472Z"
    }
   },
   "outputs": [
    {
     "name": "stderr",
     "output_type": "stream",
     "text": [
      "<ipython-input-33-df109b6a6e2b>:1: DeprecationWarning: find_element_by_* commands are deprecated. Please use find_element() instead\n",
      "  elem = browser.find_element_by_xpath(\"//*[@id='daumSearch']/fieldset/div/div/button[2]\")\n"
     ]
    }
   ],
   "source": [
    "elem = browser.find_element_by_xpath(\"//*[@id='daumSearch']/fieldset/div/div/button[2]\")"
   ]
  },
  {
   "cell_type": "code",
   "execution_count": 34,
   "metadata": {
    "ExecuteTime": {
     "end_time": "2021-11-13T08:52:20.505376Z",
     "start_time": "2021-11-13T08:52:18.807710Z"
    }
   },
   "outputs": [],
   "source": [
    "elem.click()"
   ]
  },
  {
   "cell_type": "code",
   "execution_count": 35,
   "metadata": {
    "ExecuteTime": {
     "end_time": "2021-11-13T08:53:08.619822Z",
     "start_time": "2021-11-13T08:53:06.104544Z"
    }
   },
   "outputs": [],
   "source": [
    "# browser.close() # 지금 tab만 닫음\n",
    "browser.quit() # 창이 몇개가 떠 있던 다 꺼버림"
   ]
  },
  {
   "cell_type": "markdown",
   "metadata": {},
   "source": [
    "# Naver Login\n",
    "- 실습"
   ]
  },
  {
   "cell_type": "code",
   "execution_count": 38,
   "metadata": {
    "ExecuteTime": {
     "end_time": "2021-11-13T09:19:44.910271Z",
     "start_time": "2021-11-13T09:19:35.672147Z"
    }
   },
   "outputs": [
    {
     "name": "stderr",
     "output_type": "stream",
     "text": [
      "<ipython-input-38-0e577e808445>:10: DeprecationWarning: find_element_by_* commands are deprecated. Please use find_element() instead\n",
      "  elem = browser.find_element_by_class_name('link_login')\n",
      "<ipython-input-38-0e577e808445>:14: DeprecationWarning: find_element_by_* commands are deprecated. Please use find_element() instead\n",
      "  browser.find_element_by_id('id').send_keys('naver_id')\n",
      "<ipython-input-38-0e577e808445>:15: DeprecationWarning: find_element_by_* commands are deprecated. Please use find_element() instead\n",
      "  browser.find_element_by_id('pw').send_keys('pw')\n",
      "<ipython-input-38-0e577e808445>:18: DeprecationWarning: find_element_by_* commands are deprecated. Please use find_element() instead\n",
      "  browser.find_element_by_id('log.login').click()\n",
      "<ipython-input-38-0e577e808445>:24: DeprecationWarning: find_element_by_* commands are deprecated. Please use find_element() instead\n",
      "  browser.find_element_by_id('id').clear()\n"
     ]
    }
   ],
   "source": [
    "from selenium import webdriver\n",
    "import time\n",
    "\n",
    "browser = webdriver.Chrome() # \"./chromedriver.exe\"\n",
    "\n",
    "# 1. 네이버 이동\n",
    "browser.get('http://naver.com')\n",
    "\n",
    "# 2. 로그인 버튼 클릭\n",
    "elem = browser.find_element_by_class_name('link_login')\n",
    "elem.click()\n",
    "\n",
    "# 3. id,pw 입력\n",
    "browser.find_element_by_id('id').send_keys('naver_id')\n",
    "browser.find_element_by_id('pw').send_keys('pw')\n",
    "\n",
    "# 4. 로그인 버튼 클릭\n",
    "browser.find_element_by_id('log.login').click()\n",
    "\n",
    "time.sleep(3)\n",
    "\n",
    "# 5. id를 새로 입력\n",
    "# browser.find_element_by_id('id').send_keys('my_id') # naver_id 뒤에 붙어서 들어감\n",
    "browser.find_element_by_id('id').clear()\n",
    "browser.find_element_by_id('id').send_keys('my_id')\n",
    "\n",
    "# 6. html 정보 출력\n",
    "print(browser.page_source) # page 정보 출력\n",
    "\n",
    "# 7. 브라우저 종료\n",
    "browser.quit()"
   ]
  },
  {
   "cell_type": "markdown",
   "metadata": {},
   "source": [
    "# Google movie\n",
    "- Selenium 활용\n",
    "- 동적페이지\n",
    "\n",
    ">오류\n",
    "- 마지막에 오류 나는데 나중에 수정"
   ]
  },
  {
   "cell_type": "code",
   "execution_count": 47,
   "metadata": {
    "ExecuteTime": {
     "end_time": "2021-11-13T10:25:54.603162Z",
     "start_time": "2021-11-13T10:25:54.112418Z"
    }
   },
   "outputs": [
    {
     "name": "stdout",
     "output_type": "stream",
     "text": [
      "10\n",
      "None\n",
      "None\n",
      "None\n",
      "None\n",
      "None\n",
      "None\n",
      "None\n",
      "None\n",
      "None\n",
      "None\n"
     ]
    }
   ],
   "source": [
    "import requests\n",
    "from bs4 import BeautifulSoup\n",
    "\n",
    "url = 'https://play.google.com/store/movies/top'\n",
    "headers = {\n",
    "    'User-Agent':'Mozilla/5.0 (Windows NT 10.0; Win64; x64) AppleWebKit/537.36 (KHTML, like Gecko) Chrome/95.0.4638.69 Safari/537.36',\n",
    "    'Accept-Language':'ko-KR,ko'\n",
    "}\n",
    "\n",
    "res = requests.get(url, headers = headers)\n",
    "res.raise_for_status() # 오류 check\n",
    "soup = BeautifulSoup(res.text, 'lxml')\n",
    "\n",
    "movies = soup.find_all('div', attrs = {'class':'ImZGtf mpg5gc'})\n",
    "print(len(movies))\n",
    "\n",
    "# with open('movie.html', 'w', encoding='utf8') as f:\n",
    "#     #f.write(res.text)\n",
    "#     f.write(soup.prettify()) # html 문서를 이쁘게 출력\n",
    "\n",
    "for movie in movies:\n",
    "    title = movie.find('div', attrs={'class':'WsMG1c nnk0zc'}).get_text()\n",
    "    print(title)"
   ]
  },
  {
   "cell_type": "code",
   "execution_count": 74,
   "metadata": {
    "ExecuteTime": {
     "end_time": "2021-11-13T11:17:11.425833Z",
     "start_time": "2021-11-13T11:17:02.726824Z"
    }
   },
   "outputs": [
    {
     "name": "stdout",
     "output_type": "stream",
     "text": [
      "스크롤 완료\n",
      "60\n"
     ]
    },
    {
     "ename": "TypeError",
     "evalue": "'NoneType' object is not subscriptable",
     "output_type": "error",
     "traceback": [
      "\u001b[1;31m---------------------------------------------------------------------------\u001b[0m",
      "\u001b[1;31mTypeError\u001b[0m                                 Traceback (most recent call last)",
      "\u001b[1;32m<ipython-input-74-b5727875f11f>\u001b[0m in \u001b[0;36m<module>\u001b[1;34m\u001b[0m\n\u001b[0;32m     59\u001b[0m \u001b[1;33m\u001b[0m\u001b[0m\n\u001b[0;32m     60\u001b[0m     \u001b[1;31m# 링크\u001b[0m\u001b[1;33m\u001b[0m\u001b[1;33m\u001b[0m\u001b[1;33m\u001b[0m\u001b[0m\n\u001b[1;32m---> 61\u001b[1;33m     \u001b[0mlink\u001b[0m \u001b[1;33m=\u001b[0m \u001b[1;34m\"https://play.google.com\"\u001b[0m \u001b[1;33m+\u001b[0m \u001b[0mmovie\u001b[0m\u001b[1;33m.\u001b[0m\u001b[0mfind\u001b[0m\u001b[1;33m(\u001b[0m\u001b[1;34m'a'\u001b[0m\u001b[1;33m,\u001b[0m \u001b[0mattrs\u001b[0m\u001b[1;33m=\u001b[0m\u001b[1;33m{\u001b[0m\u001b[1;34m'class'\u001b[0m\u001b[1;33m:\u001b[0m\u001b[1;34m\"b8cIId ReQCgd Q9MA7b\"\u001b[0m\u001b[1;33m}\u001b[0m\u001b[1;33m)\u001b[0m\u001b[1;33m[\u001b[0m\u001b[1;34m'href'\u001b[0m\u001b[1;33m]\u001b[0m\u001b[1;33m\u001b[0m\u001b[1;33m\u001b[0m\u001b[0m\n\u001b[0m\u001b[0;32m     62\u001b[0m \u001b[1;33m\u001b[0m\u001b[0m\n\u001b[0;32m     63\u001b[0m     \u001b[0mprint\u001b[0m\u001b[1;33m(\u001b[0m\u001b[1;34m'제목 : {0}'\u001b[0m\u001b[1;33m.\u001b[0m\u001b[0mformat\u001b[0m\u001b[1;33m(\u001b[0m\u001b[0mtitle\u001b[0m\u001b[1;33m)\u001b[0m\u001b[1;33m)\u001b[0m\u001b[1;33m\u001b[0m\u001b[1;33m\u001b[0m\u001b[0m\n",
      "\u001b[1;31mTypeError\u001b[0m: 'NoneType' object is not subscriptable"
     ]
    }
   ],
   "source": [
    "import requests\n",
    "from bs4 import BeautifulSoup\n",
    "from selenium import webdriver\n",
    "import time\n",
    "\n",
    "browser = webdriver.Chrome()\n",
    "browser.maximize_window()\n",
    "\n",
    "# 페이지 이동\n",
    "url = 'https://play.google.com/store/movies/top'\n",
    "browser.get(url)\n",
    "\n",
    "# 지정한 위치로 스크롤 내리기\n",
    "# 모니터(해상도) 높이인 1080 위치로 스크롤 내리기\n",
    "# browser.execute_script('window.scrollTo(0, 1080)')\n",
    "\n",
    "# 화면 가장 아래로 스크롤 내리기\n",
    "# browser.execute_script('window.scrollTo(0, document.body.scrollHeight)')\n",
    "\n",
    "interval = 2 # 2초에 한 번씩 스크롤 내림\n",
    "\n",
    "# 현재 문서 높이를 가져와서 저장\n",
    "prev_height = browser.execute_script(\"return document.body.scrollHeight\")\n",
    "\n",
    "# 반복수행\n",
    "while True:\n",
    "    # 스크롤을 가장 아래로 내림\n",
    "    browser.execute_script('window.scrollTo(0, document.body.scrollHeight)')\n",
    "    # 페이지 로딩 대기\n",
    "    time.sleep(interval)\n",
    "    # 현재 문서 높이를 가져와서 저장\n",
    "    curr_height = browser.execute_script(\"return document.body.scrollHeight\")\n",
    "    \n",
    "    if prev_height == curr_height:\n",
    "        break\n",
    "    \n",
    "    prev_height = curr_height\n",
    "\n",
    "print('스크롤 완료')\n",
    "\n",
    "soup = BeautifulSoup(browser.page_source, 'lxml')\n",
    "\n",
    "movies = soup.find_all('div', attrs = {'class':'Vpfmgd'})\n",
    "print(len(movies))\n",
    "\n",
    "for movie in movies:\n",
    "    title = movie.find('div', attrs={'class':'WsMG1c nnK0zc'}).get_text()\n",
    "    \n",
    "    # 할인 전 가격\n",
    "    original_price = movie.find('span', attrs = {'class':\"SUZt4c djCuy\"})\n",
    "    if original_price:\n",
    "        original_price = original_price.get_text()\n",
    "    else:\n",
    "#         print(title, \"<할인되지 않은 영화 제외>\")\n",
    "        continue\n",
    "    \n",
    "    # 할인 된 가격\n",
    "    price = movie.find('span', attrs={'class':\"VfPpfd ZdBevf i5DZme\"}).get_text()\n",
    "    \n",
    "    # 링크\n",
    "    link = \"https://play.google.com\" + movie.find('a', attrs={'class':\"b8cIId ReQCgd Q9MA7b\"})['href']\n",
    "    \n",
    "    print('제목 : {0}'.format(title))\n",
    "    print('할인 전 금액 : {0}'.format(original_price))\n",
    "    print('할인 후 금액 : {0}'.format(price))\n",
    "    print('링크 : {0}'.format(link))\n",
    "    print('-'*60)\n",
    "    \n",
    "browser.quit()"
   ]
  },
  {
   "cell_type": "code",
   "execution_count": null,
   "metadata": {},
   "outputs": [],
   "source": []
  }
 ],
 "metadata": {
  "hide_input": false,
  "kernelspec": {
   "display_name": "Python 3",
   "language": "python",
   "name": "python3"
  },
  "language_info": {
   "codemirror_mode": {
    "name": "ipython",
    "version": 3
   },
   "file_extension": ".py",
   "mimetype": "text/x-python",
   "name": "python",
   "nbconvert_exporter": "python",
   "pygments_lexer": "ipython3",
   "version": "3.8.3"
  },
  "toc": {
   "base_numbering": 1,
   "nav_menu": {},
   "number_sections": true,
   "sideBar": true,
   "skip_h1_title": false,
   "title_cell": "Table of Contents",
   "title_sidebar": "Contents",
   "toc_cell": false,
   "toc_position": {},
   "toc_section_display": true,
   "toc_window_display": false
  },
  "varInspector": {
   "cols": {
    "lenName": 16,
    "lenType": 16,
    "lenVar": 40
   },
   "kernels_config": {
    "python": {
     "delete_cmd_postfix": "",
     "delete_cmd_prefix": "del ",
     "library": "var_list.py",
     "varRefreshCmd": "print(var_dic_list())"
    },
    "r": {
     "delete_cmd_postfix": ") ",
     "delete_cmd_prefix": "rm(",
     "library": "var_list.r",
     "varRefreshCmd": "cat(var_dic_list()) "
    }
   },
   "types_to_exclude": [
    "module",
    "function",
    "builtin_function_or_method",
    "instance",
    "_Feature"
   ],
   "window_display": false
  }
 },
 "nbformat": 4,
 "nbformat_minor": 4
}
